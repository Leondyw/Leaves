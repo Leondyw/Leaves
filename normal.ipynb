{
 "cells": [
  {
   "cell_type": "code",
   "execution_count": null,
   "metadata": {},
   "outputs": [
    {
     "name": "stderr",
     "output_type": "stream",
     "text": [
      "Processing images: 100%|██████████| 27153/27153 [02:28<00:00, 182.43it/s]"
     ]
    },
    {
     "name": "stdout",
     "output_type": "stream",
     "text": [
      "均值:  [0.75885325 0.77881755 0.75984938]\n",
      "标准差:  [0.24770346 0.23468548 0.26303263]\n"
     ]
    },
    {
     "name": "stderr",
     "output_type": "stream",
     "text": [
      "\n"
     ]
    }
   ],
   "source": [
    "import torch\n",
    "from torchvision import datasets, transforms\n",
    "from torch.utils.data import DataLoader\n",
    "import numpy as np\n",
    "from PIL import Image\n",
    "import os\n",
    "from tqdm import tqdm\n",
    "\n",
    "def calculate_mean_std(data_path):\n",
    "    channel_sum = np.zeros(3)\n",
    "    channel_sum_squared = np.zeros(3)\n",
    "    pixel_count = 0\n",
    "    \n",
    "    # 获取所有图片文件\n",
    "    image_files = []\n",
    "    for root, _, files in os.walk(data_path):\n",
    "        for file in files:\n",
    "            if file.endswith(('.jpg', '.jpeg', '.png')):\n",
    "                image_files.append(os.path.join(root, file))\n",
    "    \n",
    "    # 遍历所有图片并显示进度条\n",
    "    for img_path in tqdm(image_files, desc=\"Processing images\"):\n",
    "        img = Image.open(img_path).convert('RGB')\n",
    "        img = np.array(img) / 255.0  # 归一化到 [0,1]\n",
    "        \n",
    "        pixel_count += (img.shape[0] * img.shape[1])\n",
    "        channel_sum += np.sum(img, axis=(0, 1))\n",
    "        channel_sum_squared += np.sum(np.square(img), axis=(0, 1))\n",
    "    \n",
    "    # 计算均值\n",
    "    mean = channel_sum / pixel_count\n",
    "    \n",
    "    # 计算标准差\n",
    "    std = np.sqrt((channel_sum_squared / pixel_count) - np.square(mean))\n",
    "    \n",
    "    return mean, std\n",
    "\n",
    "mean, std = calculate_mean_std(data_path)\n",
    "print('均值: ', mean)\n",
    "print('标准差: ', std)\n"
   ]
  },
  {
   "cell_type": "code",
   "execution_count": 49,
   "metadata": {},
   "outputs": [],
   "source": [
    "import collections\n",
    "import math\n",
    "import os\n",
    "import shutil\n",
    "import pandas as pd\n",
    "import torch\n",
    "import torchvision\n",
    "from torch import nn\n",
    "from d2l import torch as d2l"
   ]
  },
  {
   "cell_type": "code",
   "execution_count": 53,
   "metadata": {},
   "outputs": [
    {
     "name": "stdout",
     "output_type": "stream",
     "text": [
      "# 训练样本 : 18353\n",
      "# 类别 : 176\n",
      "images/0.jpg\n"
     ]
    }
   ],
   "source": [
    "#@save\n",
    "def read_csv_labels(fname):\n",
    "    \"\"\"读取fname来给标签字典返回一个文件名\"\"\"\n",
    "    with open(fname, 'r') as f:\n",
    "        # 跳过文件头行(列名)\n",
    "        lines = f.readlines()[1:]\n",
    "    tokens = [l.rstrip().split(',') for l in lines]\n",
    "    return dict(((name, label) for name, label in tokens))\n",
    "\n",
    "labels = read_csv_labels(os.path.join('train.csv'))\n",
    "print('# 训练样本 :', len(labels))\n",
    "print('# 类别 :', len(set(labels.values())))\n",
    "print(list(labels.keys())[0])"
   ]
  },
  {
   "cell_type": "code",
   "execution_count": 57,
   "metadata": {},
   "outputs": [],
   "source": [
    "#@save\n",
    "def copyfile(filename, target_dir):\n",
    "    \"\"\"将文件复制到目标目录\"\"\"\n",
    "    os.makedirs(target_dir, exist_ok=True)\n",
    "    shutil.copy(filename, target_dir)\n",
    "\n",
    "#@save\n",
    "def reorg_data(data_dir, labels, valid_ratio):\n",
    "    \"\"\"将验证集从原始的训练集中拆分出来\"\"\"\n",
    "    # 训练数据集中样本最少的类别中的样本数\n",
    "    n = collections.Counter(labels.values()).most_common()[-1][1]\n",
    "    # 验证集中每个类别的样本数\n",
    "    n_valid_per_label = max(1, math.floor(n * valid_ratio))\n",
    "    label_count = {}\n",
    "    for train_file in os.listdir(os.path.join(data_dir, 'images')):\n",
    "\n",
    "        if 'images/'+ train_file  in labels:\n",
    "            label = labels['images/'+ train_file]\n",
    "            if label not in label_count or label_count[label] < n_valid_per_label:\n",
    "                copyfile(os.path.join(data_dir, 'images', train_file), os.path.join(data_dir, 'data',\n",
    "                                         'valid', label))\n",
    "                label_count[label] = label_count.get(label, 0) + 1\n",
    "            else:\n",
    "                copyfile(os.path.join(data_dir, 'images', train_file), os.path.join(data_dir, 'data',\n",
    "                                         'train', label))\n",
    "        else:\n",
    "            copyfile(os.path.join(data_dir, 'images', train_file), os.path.join(data_dir, 'data',\n",
    "                                         'test'))\n",
    "    return n_valid_per_label"
   ]
  },
  {
   "cell_type": "code",
   "execution_count": 59,
   "metadata": {},
   "outputs": [
    {
     "data": {
      "text/plain": [
       "5"
      ]
     },
     "execution_count": 59,
     "metadata": {},
     "output_type": "execute_result"
    }
   ],
   "source": [
    "batch_size = 32 # 批量大小\n",
    "valid_ratio = 0.1\n",
    "data_dir = './'\n",
    "labels = read_csv_labels(os.path.join(data_dir, 'train.csv'))\n",
    "reorg_data(data_dir, labels, valid_ratio)"
   ]
  },
  {
   "cell_type": "code",
   "execution_count": null,
   "metadata": {},
   "outputs": [],
   "source": []
  }
 ],
 "metadata": {
  "kernelspec": {
   "display_name": "yolo8",
   "language": "python",
   "name": "python3"
  },
  "language_info": {
   "codemirror_mode": {
    "name": "ipython",
    "version": 3
   },
   "file_extension": ".py",
   "mimetype": "text/x-python",
   "name": "python",
   "nbconvert_exporter": "python",
   "pygments_lexer": "ipython3",
   "version": "3.9.20"
  }
 },
 "nbformat": 4,
 "nbformat_minor": 2
}
