{
 "cells": [
  {
   "cell_type": "code",
   "execution_count": null,
   "metadata": {},
   "outputs": [
    {
     "name": "stderr",
     "output_type": "stream",
     "text": [
      "Processing images: 100%|██████████| 27153/27153 [02:28<00:00, 182.43it/s]"
     ]
    },
    {
     "name": "stdout",
     "output_type": "stream",
     "text": [
      "均值:  [0.75885325 0.77881755 0.75984938]\n",
      "标准差:  [0.24770346 0.23468548 0.26303263]\n"
     ]
    },
    {
     "name": "stderr",
     "output_type": "stream",
     "text": [
      "\n"
     ]
    }
   ],
   "source": [
    "import torch\n",
    "from torchvision import datasets, transforms\n",
    "from torch.utils.data import DataLoader\n",
    "import numpy as np\n",
    "from PIL import Image\n",
    "import os\n",
    "from tqdm import tqdm\n",
    "\n",
    "def calculate_mean_std(data_path):\n",
    "    channel_sum = np.zeros(3)\n",
    "    channel_sum_squared = np.zeros(3)\n",
    "    pixel_count = 0\n",
    "    \n",
    "    # 获取所有图片文件\n",
    "    image_files = []\n",
    "    for root, _, files in os.walk(data_path):\n",
    "        for file in files:\n",
    "            if file.endswith(('.jpg', '.jpeg', '.png')):\n",
    "                image_files.append(os.path.join(root, file))\n",
    "    \n",
    "    # 遍历所有图片并显示进度条\n",
    "    for img_path in tqdm(image_files, desc=\"Processing images\"):\n",
    "        img = Image.open(img_path).convert('RGB')\n",
    "        img = np.array(img) / 255.0  # 归一化到 [0,1]\n",
    "        \n",
    "        pixel_count += (img.shape[0] * img.shape[1])\n",
    "        channel_sum += np.sum(img, axis=(0, 1))\n",
    "        channel_sum_squared += np.sum(np.square(img), axis=(0, 1))\n",
    "    \n",
    "    # 计算均值\n",
    "    mean = channel_sum / pixel_count\n",
    "    \n",
    "    # 计算标准差\n",
    "    std = np.sqrt((channel_sum_squared / pixel_count) - np.square(mean))\n",
    "    \n",
    "    return mean, std\n",
    "\n",
    "mean, std = calculate_mean_std(data_path)\n",
    "print('均值: ', mean)\n",
    "print('标准差: ', std)\n"
   ]
  },
  {
   "cell_type": "code",
   "execution_count": null,
   "metadata": {},
   "outputs": [],
   "source": []
  }
 ],
 "metadata": {
  "kernelspec": {
   "display_name": "yolo8",
   "language": "python",
   "name": "python3"
  },
  "language_info": {
   "codemirror_mode": {
    "name": "ipython",
    "version": 3
   },
   "file_extension": ".py",
   "mimetype": "text/x-python",
   "name": "python",
   "nbconvert_exporter": "python",
   "pygments_lexer": "ipython3",
   "version": "3.9.20"
  }
 },
 "nbformat": 4,
 "nbformat_minor": 2
}
